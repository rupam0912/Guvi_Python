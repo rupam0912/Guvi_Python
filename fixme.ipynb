{
  "nbformat": 4,
  "nbformat_minor": 0,
  "metadata": {
    "colab": {
      "name": "fixme.ipynb",
      "provenance": [],
      "authorship_tag": "ABX9TyPXY17hkTZJHQQKXetzM7F9",
      "include_colab_link": true
    },
    "kernelspec": {
      "name": "python3",
      "display_name": "Python 3"
    }
  },
  "cells": [
    {
      "cell_type": "markdown",
      "metadata": {
        "id": "view-in-github",
        "colab_type": "text"
      },
      "source": [
        "<a href=\"https://colab.research.google.com/github/rupam0912/Guvi_Python/blob/master/fixme.ipynb\" target=\"_parent\"><img src=\"https://colab.research.google.com/assets/colab-badge.svg\" alt=\"Open In Colab\"/></a>"
      ]
    },
    {
      "cell_type": "code",
      "metadata": {
        "id": "VRDTmEFLI2B4",
        "colab_type": "code",
        "outputId": "88919a60-e94c-4695-ec43-b9a200730e7a",
        "colab": {
          "base_uri": "https://localhost:8080/",
          "height": 34
        }
      },
      "source": [
        "myname='GUVI'\n",
        "print(myname)"
      ],
      "execution_count": 0,
      "outputs": [
        {
          "output_type": "stream",
          "text": [
            "GUVI\n"
          ],
          "name": "stdout"
        }
      ]
    },
    {
      "cell_type": "code",
      "metadata": {
        "id": "rI7TwJmfJrjD",
        "colab_type": "code",
        "outputId": "467d37fe-2711-4589-d954-d6e2c729a002",
        "colab": {
          "base_uri": "https://localhost:8080/",
          "height": 34
        }
      },
      "source": [
        "if True>=False:\n",
        "\top = \"GUVI\"\n",
        "else:\n",
        "\top =\"Geeks\" \n",
        "print(op)\n"
      ],
      "execution_count": 0,
      "outputs": [
        {
          "output_type": "stream",
          "text": [
            "GUVI\n"
          ],
          "name": "stdout"
        }
      ]
    },
    {
      "cell_type": "code",
      "metadata": {
        "id": "e_iIivYAKFN0",
        "colab_type": "code",
        "outputId": "704609e7-bc72-4f3c-ac60-e39bdc754ebb",
        "colab": {
          "base_uri": "https://localhost:8080/",
          "height": 34
        }
      },
      "source": [
        "if 3.5 % 1.5 != 0:\n",
        "\top = \"GUVI\"\n",
        "else:\n",
        "\top =\"Geek\" \n",
        "print(op)"
      ],
      "execution_count": 0,
      "outputs": [
        {
          "output_type": "stream",
          "text": [
            "GUVI\n"
          ],
          "name": "stdout"
        }
      ]
    },
    {
      "cell_type": "code",
      "metadata": {
        "id": "50Lb2MrZJnA8",
        "colab_type": "code",
        "colab": {
          "base_uri": "https://localhost:8080/",
          "height": 34
        },
        "outputId": "9255d8f1-f241-43e1-bc20-6b60138b91f8"
      },
      "source": [
        "a = 3.5 \n",
        "\n",
        "if( a == 7//2 ):\n",
        "\tprint(\"GUVI\")\n",
        "else:\n",
        "\tprint(\"Geek\")"
      ],
      "execution_count": 1,
      "outputs": [
        {
          "output_type": "stream",
          "text": [
            "Geek\n"
          ],
          "name": "stdout"
        }
      ]
    },
    {
      "cell_type": "code",
      "metadata": {
        "id": "lj4tfmlTJ4lz",
        "colab_type": "code",
        "colab": {
          "base_uri": "https://localhost:8080/",
          "height": 51
        },
        "outputId": "fe7b9432-6e18-4098-a2b6-627020908550"
      },
      "source": [
        "for i in range(7):\n",
        "\tif i==3: continue\n",
        "print(i)\n",
        "\n",
        "\n",
        "for i in range(7):\n",
        "    if i==3: break\n",
        "print(i)\n"
      ],
      "execution_count": 2,
      "outputs": [
        {
          "output_type": "stream",
          "text": [
            "6\n",
            "3\n"
          ],
          "name": "stdout"
        }
      ]
    },
    {
      "cell_type": "code",
      "metadata": {
        "id": "csf90yXjKU8U",
        "colab_type": "code",
        "colab": {
          "base_uri": "https://localhost:8080/",
          "height": 34
        },
        "outputId": "ffef9a09-6115-4a4c-8c0f-70806a2e162f"
      },
      "source": [
        "data = 0\n",
        "for i in range(7):\n",
        "\tif i==3: continue\n",
        "\telse: data = i\n",
        "print(data)"
      ],
      "execution_count": 3,
      "outputs": [
        {
          "output_type": "stream",
          "text": [
            "6\n"
          ],
          "name": "stdout"
        }
      ]
    },
    {
      "cell_type": "code",
      "metadata": {
        "id": "vT_FEEAPKbTZ",
        "colab_type": "code",
        "colab": {
          "base_uri": "https://localhost:8080/",
          "height": 102
        },
        "outputId": "f380a113-8ee0-4f01-ad2d-04f70bee5e48"
      },
      "source": [
        "#print HELLO 5 times\n",
        "for i in range(1, 10,2):\n",
        "    print(\"HELLO\")"
      ],
      "execution_count": 5,
      "outputs": [
        {
          "output_type": "stream",
          "text": [
            "HELLO\n",
            "HELLO\n",
            "HELLO\n",
            "HELLO\n",
            "HELLO\n"
          ],
          "name": "stdout"
        }
      ]
    },
    {
      "cell_type": "code",
      "metadata": {
        "id": "yAq4HJZLK4Kq",
        "colab_type": "code",
        "colab": {
          "base_uri": "https://localhost:8080/",
          "height": 34
        },
        "outputId": "d7e3bdff-6920-4a5c-ba0a-6ecf2bbda0a7"
      },
      "source": [
        "a=[]\n",
        "a = [i for i in range(1,10,2)]\n",
        "for i in a:\n",
        "  print(i,end=\"\")"
      ],
      "execution_count": 13,
      "outputs": [
        {
          "output_type": "stream",
          "text": [
            "13579"
          ],
          "name": "stdout"
        }
      ]
    },
    {
      "cell_type": "code",
      "metadata": {
        "id": "EOdQfPpaLv9j",
        "colab_type": "code",
        "colab": {
          "base_uri": "https://localhost:8080/",
          "height": 51
        },
        "outputId": "53ec6a6b-e105-4066-da0b-6dfcb2e666b7"
      },
      "source": [
        "#Input: 50\n",
        "#Expected Output: 1275\n",
        "\n",
        "a=int(input(\"Enter a number\"))\n",
        "sum=0\n",
        "for i in range (1,a+1):\n",
        "    sum=sum+i\n",
        "print(sum)"
      ],
      "execution_count": 16,
      "outputs": [
        {
          "output_type": "stream",
          "text": [
            "Enter a number50\n",
            "1275\n"
          ],
          "name": "stdout"
        }
      ]
    },
    {
      "cell_type": "code",
      "metadata": {
        "id": "5uiidTgaNXO9",
        "colab_type": "code",
        "colab": {
          "base_uri": "https://localhost:8080/",
          "height": 34
        },
        "outputId": "086a7aee-5102-411b-98fd-6caef3fb3306"
      },
      "source": [
        "a = [1,2,3]\n",
        "a[0] = 0\n",
        "a[1] = 1\n",
        "a[2] = 2\n",
        "\n",
        "i=0\n",
        "\n",
        "while (i<3):\n",
        "\ta[i] = 1\n",
        "\ti+=1\n",
        "\t\n",
        "print(a)"
      ],
      "execution_count": 17,
      "outputs": [
        {
          "output_type": "stream",
          "text": [
            "[1, 1, 1]\n"
          ],
          "name": "stdout"
        }
      ]
    },
    {
      "cell_type": "code",
      "metadata": {
        "id": "xu7rfR9yN-GO",
        "colab_type": "code",
        "colab": {
          "base_uri": "https://localhost:8080/",
          "height": 68
        },
        "outputId": "d4f20886-06f9-4797-9d08-efa6c7efd89c"
      },
      "source": [
        "a=input(\"Press any key...\\n\")\n",
        "if a.isalpha() == 1:\n",
        "    print(\"You entered an alphabet\")\n",
        "else:\n",
        "    print(\"Please try again\")\n"
      ],
      "execution_count": 19,
      "outputs": [
        {
          "output_type": "stream",
          "text": [
            "Press any key...\n",
            "kk\n",
            "You entered an alphabet\n"
          ],
          "name": "stdout"
        }
      ]
    },
    {
      "cell_type": "code",
      "metadata": {
        "id": "1QEqvt3xOvM9",
        "colab_type": "code",
        "colab": {
          "base_uri": "https://localhost:8080/",
          "height": 68
        },
        "outputId": "91de3036-9732-4a77-a552-da1bee31c301"
      },
      "source": [
        "a=input(\"Enter an ALPHABET...\\n\")\n",
        "a = a.lower()\n",
        "if a=='a'or a=='e'or a=='i'or a=='o'or a=='u':\n",
        "    print(\"You entered a vowel\")\n",
        "else:\n",
        "    print(\"You entered a consonant\")"
      ],
      "execution_count": 22,
      "outputs": [
        {
          "output_type": "stream",
          "text": [
            "Enter an ALPHABET...\n",
            "A\n",
            "You entered a vowel\n"
          ],
          "name": "stdout"
        }
      ]
    },
    {
      "cell_type": "code",
      "metadata": {
        "id": "n_agO4t_PDlN",
        "colab_type": "code",
        "colab": {
          "base_uri": "https://localhost:8080/",
          "height": 85
        },
        "outputId": "4bea061c-d356-4f0c-fb6e-ad93bf074f32"
      },
      "source": [
        "p=int(input(\"Enter the principal amount\"))\n",
        "r=int(input(\"Enter the rate\"))\n",
        "t=int(input(\"Enter the time\"))\n",
        "SI=int(p*t*r/100)\n",
        "print(SI)"
      ],
      "execution_count": 25,
      "outputs": [
        {
          "output_type": "stream",
          "text": [
            "Enter the principal amount100\n",
            "Enter the rate12\n",
            "Enter the time2\n",
            "24\n"
          ],
          "name": "stdout"
        }
      ]
    },
    {
      "cell_type": "code",
      "metadata": {
        "id": "yxQNgAJAPfHQ",
        "colab_type": "code",
        "colab": {
          "base_uri": "https://localhost:8080/",
          "height": 68
        },
        "outputId": "e4577eec-d9d7-42d6-c371-acfaec1fb758"
      },
      "source": [
        "a = [1,2,3,4]\n",
        "print(a[:1:-1])\n",
        "\n",
        "a=[0,1,2,3,4]\n",
        "print(a[-1])\n",
        "\n",
        "','.join('12345')\n"
      ],
      "execution_count": 27,
      "outputs": [
        {
          "output_type": "stream",
          "text": [
            "[4, 3]\n",
            "4\n"
          ],
          "name": "stdout"
        },
        {
          "output_type": "execute_result",
          "data": {
            "text/plain": [
              "'1,2,3,4,5'"
            ]
          },
          "metadata": {
            "tags": []
          },
          "execution_count": 27
        }
      ]
    },
    {
      "cell_type": "code",
      "metadata": {
        "id": "iWCIBOw7RjQ9",
        "colab_type": "code",
        "colab": {
          "base_uri": "https://localhost:8080/",
          "height": 34
        },
        "outputId": "0e91601b-1e69-4a65-e7f0-af897524cfea"
      },
      "source": [
        "mydict={'a':1,'b':2,'c':3,'e':5}\n",
        "a = [mydict.keys()]\n",
        "#print(a)\n",
        "for i in a:\n",
        "  print(i,end=\"\")"
      ],
      "execution_count": 33,
      "outputs": [
        {
          "output_type": "stream",
          "text": [
            "dict_keys(['a', 'b', 'c', 'e'])"
          ],
          "name": "stdout"
        }
      ]
    },
    {
      "cell_type": "code",
      "metadata": {
        "id": "z3ZwPdvySUst",
        "colab_type": "code",
        "colab": {
          "base_uri": "https://localhost:8080/",
          "height": 51
        },
        "outputId": "b023e483-fa03-406a-ba8d-e88b048b0c81"
      },
      "source": [
        "#Input: 5\n",
        "# Output: {1: 1, 2: 4, 3: 9, 4: 16}\n",
        "\n",
        "n=int(input())\n",
        "d=dict()\n",
        "for i in range(1,n):\n",
        "\td[i]=i*i\n",
        "print(d)"
      ],
      "execution_count": 36,
      "outputs": [
        {
          "output_type": "stream",
          "text": [
            "5\n",
            "{1: 1, 2: 4, 3: 9, 4: 16}\n"
          ],
          "name": "stdout"
        }
      ]
    },
    {
      "cell_type": "code",
      "metadata": {
        "id": "uxjV2CogSwaY",
        "colab_type": "code",
        "colab": {
          "base_uri": "https://localhost:8080/",
          "height": 34
        },
        "outputId": "5b0db1b2-165d-44e5-abe9-5f22d458c3a2"
      },
      "source": [
        "a, b = 2, 3\n",
        "minvalue = a if a < b else b\n",
        "print(minvalue)"
      ],
      "execution_count": 37,
      "outputs": [
        {
          "output_type": "stream",
          "text": [
            "2\n"
          ],
          "name": "stdout"
        }
      ]
    },
    {
      "cell_type": "code",
      "metadata": {
        "id": "jjcbLxJiS4OA",
        "colab_type": "code",
        "colab": {
          "base_uri": "https://localhost:8080/",
          "height": 34
        },
        "outputId": "be569c8f-2fc6-4729-fb69-a7df8ef6e890"
      },
      "source": [
        "g = lambda x, y : x*y\n",
        "print(g(1, 2))"
      ],
      "execution_count": 38,
      "outputs": [
        {
          "output_type": "stream",
          "text": [
            "2\n"
          ],
          "name": "stdout"
        }
      ]
    },
    {
      "cell_type": "code",
      "metadata": {
        "id": "B-KjEzLaTChe",
        "colab_type": "code",
        "colab": {
          "base_uri": "https://localhost:8080/",
          "height": 34
        },
        "outputId": "896ab850-de44-4304-8ed7-393f020351fc"
      },
      "source": [
        "g = lambda x, y = 0, z = 0: x+y+z\n",
        "print(g(1))"
      ],
      "execution_count": 39,
      "outputs": [
        {
          "output_type": "stream",
          "text": [
            "1\n"
          ],
          "name": "stdout"
        }
      ]
    },
    {
      "cell_type": "code",
      "metadata": {
        "id": "_HwaWRixToud",
        "colab_type": "code",
        "colab": {
          "base_uri": "https://localhost:8080/",
          "height": 34
        },
        "outputId": "93c4697a-3a93-44c8-c692-dca89fcf809d"
      },
      "source": [
        "global_var = \"GUVI\" # global variable\n",
        "def info():\n",
        "    addr = \"World\"     # local variable\n",
        "    email = \"reach@guvi.in\"\n",
        "    print(f'{global_var} address:{addr} and his email is {email}')\n",
        "\n",
        "info()"
      ],
      "execution_count": 40,
      "outputs": [
        {
          "output_type": "stream",
          "text": [
            "GUVI address:World and his email is reach@guvi.in\n"
          ],
          "name": "stdout"
        }
      ]
    },
    {
      "cell_type": "code",
      "metadata": {
        "id": "9gK_1npZT06w",
        "colab_type": "code",
        "colab": {
          "base_uri": "https://localhost:8080/",
          "height": 34
        },
        "outputId": "9b22079f-fd53-496e-b66a-178dd253e9b9"
      },
      "source": [
        "this_is_confusing=3,4,5\n",
        "print(this_is_confusing)\n",
        "\n"
      ],
      "execution_count": 41,
      "outputs": [
        {
          "output_type": "stream",
          "text": [
            "(3, 4, 5)\n"
          ],
          "name": "stdout"
        }
      ]
    },
    {
      "cell_type": "code",
      "metadata": {
        "id": "ZqiGhA3-UDMW",
        "colab_type": "code",
        "colab": {
          "base_uri": "https://localhost:8080/",
          "height": 34
        },
        "outputId": "11db5ac9-0ad7-4671-e0ec-2d19dee89b99"
      },
      "source": [
        "a = 1\n",
        "try:\n",
        "    a += 1\n",
        "except:\n",
        "    a += 1\n",
        "else:\n",
        "    a += 2\n",
        "finally:\n",
        "    a += 1\n",
        "print(a)"
      ],
      "execution_count": 42,
      "outputs": [
        {
          "output_type": "stream",
          "text": [
            "5\n"
          ],
          "name": "stdout"
        }
      ]
    },
    {
      "cell_type": "code",
      "metadata": {
        "id": "Py_5gIczUebr",
        "colab_type": "code",
        "colab": {
          "base_uri": "https://localhost:8080/",
          "height": 34
        },
        "outputId": "692c13a3-105d-4c3c-a12e-5467a368f55a"
      },
      "source": [
        "mylist=[0,1,2,3,4,5,6,7,8]\n",
        "print(mylist[-3:-1])"
      ],
      "execution_count": 43,
      "outputs": [
        {
          "output_type": "stream",
          "text": [
            "[6, 7]\n"
          ],
          "name": "stdout"
        }
      ]
    },
    {
      "cell_type": "code",
      "metadata": {
        "id": "HXIakJ3LUvKD",
        "colab_type": "code",
        "colab": {
          "base_uri": "https://localhost:8080/",
          "height": 68
        },
        "outputId": "77fc1be8-fea3-4511-b5f5-e9172eb95ffc"
      },
      "source": [
        "a=input(\"Enter a number...\\n\")\n",
        "a=int(a)\n",
        "if a > 0:\n",
        "    print(\"The number is Positive\")\n",
        "elif a< 0:\n",
        "    print(\"The number is Negitive\")\n",
        "else:\n",
        "    print(\"You entered Zero\")"
      ],
      "execution_count": 44,
      "outputs": [
        {
          "output_type": "stream",
          "text": [
            "Enter a number...\n",
            "0\n",
            "You entered Zero\n"
          ],
          "name": "stdout"
        }
      ]
    },
    {
      "cell_type": "code",
      "metadata": {
        "id": "1t6FXb1sVSQT",
        "colab_type": "code",
        "colab": {
          "base_uri": "https://localhost:8080/",
          "height": 34
        },
        "outputId": "63fb4750-ab6a-41a9-9385-832af8b96b93"
      },
      "source": [
        "#expected o/p 10\n",
        "List = [1,2,3,4,5,6,7,8,9,10]\n",
        "print(List[9:11])"
      ],
      "execution_count": 49,
      "outputs": [
        {
          "output_type": "stream",
          "text": [
            "[10]\n"
          ],
          "name": "stdout"
        }
      ]
    },
    {
      "cell_type": "code",
      "metadata": {
        "id": "2W9_baUfV25x",
        "colab_type": "code",
        "colab": {
          "base_uri": "https://localhost:8080/",
          "height": 34
        },
        "outputId": "92e952b7-368e-43ba-f1aa-dc0191cfe43d"
      },
      "source": [
        "#Expected Output: [9,8,7]\n",
        "List = [1,2,3,4,5,6,7,8,9,10]\n",
        "print(List[-2:-5:-1])"
      ],
      "execution_count": 52,
      "outputs": [
        {
          "output_type": "stream",
          "text": [
            "[9, 8, 7]\n"
          ],
          "name": "stdout"
        }
      ]
    },
    {
      "cell_type": "code",
      "metadata": {
        "id": "XaeqQasAWkKe",
        "colab_type": "code",
        "colab": {
          "base_uri": "https://localhost:8080/",
          "height": 34
        },
        "outputId": "12440082-8490-433c-badc-919ad01d0547"
      },
      "source": [
        "#Expected Output: ['2002', '2009', '2016']\n",
        "\n",
        "l=[]\n",
        "for i in range(2000, 2020):\n",
        "    if (i%7==0):\n",
        "        l.append(str(i))\n",
        "print(l)"
      ],
      "execution_count": 53,
      "outputs": [
        {
          "output_type": "stream",
          "text": [
            "['2002', '2009', '2016']\n"
          ],
          "name": "stdout"
        }
      ]
    },
    {
      "cell_type": "code",
      "metadata": {
        "id": "_zc2CEzMXK-h",
        "colab_type": "code",
        "colab": {
          "base_uri": "https://localhost:8080/",
          "height": 68
        },
        "outputId": "0b1bda74-ee92-4fd7-ca85-af1d2b9d1aff"
      },
      "source": [
        "#Input: This is some text\n",
        "\n",
        "#Expected Output: THIS IS SOME TEXT\n",
        "lines=[]\n",
        "while True:\n",
        "    s = input()\n",
        "    if s:\n",
        "        lines.append(s.upper())\n",
        "    else:\n",
        "        break;\n",
        "\n",
        "for sentence in lines:\n",
        "    print(sentence)\n"
      ],
      "execution_count": 55,
      "outputs": [
        {
          "output_type": "stream",
          "text": [
            "This is some text\n",
            "\n",
            "THIS IS SOME TEXT\n"
          ],
          "name": "stdout"
        }
      ]
    },
    {
      "cell_type": "code",
      "metadata": {
        "id": "vUezUVLvXl00",
        "colab_type": "code",
        "colab": {
          "base_uri": "https://localhost:8080/",
          "height": 85
        },
        "outputId": "4c422de8-7fb6-4771-bbba-5050546f19d1"
      },
      "source": [
        "#Input: GUVI 123456789\n",
        "\n",
        "#Expected Output: Alphabets 4 Nums 9\n",
        "d[\"Nums\"]=0\n",
        "d[\"Alphabets\"]=0\n",
        "\n",
        "s = input()\n",
        "for c in s:\n",
        "    if c.isdigit():\n",
        "        d[\"Nums\"]+=1\n",
        "    elif c.isalpha():\n",
        "        d[\"Alphabets\"]+=1\n",
        "    else:\n",
        "        pass\n",
        "print(\"Alphabets\", d[\"Alphabets\"])\n",
        "print (\"Nums\", d[\"Nums\"])\n",
        "type(d)"
      ],
      "execution_count": 59,
      "outputs": [
        {
          "output_type": "stream",
          "text": [
            "GUVI 123456789\n",
            "Alphabets 4\n",
            "Nums 9\n"
          ],
          "name": "stdout"
        },
        {
          "output_type": "execute_result",
          "data": {
            "text/plain": [
              "dict"
            ]
          },
          "metadata": {
            "tags": []
          },
          "execution_count": 59
        }
      ]
    },
    {
      "cell_type": "code",
      "metadata": {
        "id": "5oLi6FeAZZsi",
        "colab_type": "code",
        "colab": {
          "base_uri": "https://localhost:8080/",
          "height": 34
        },
        "outputId": "2419248e-978a-472a-a7d6-4942f8763a45"
      },
      "source": [
        "import random\n",
        "\n",
        "my_list = [num for num in range(0, 10) if num % 2 == 0]\n",
        "\n",
        "my_dict = {num:random.randint(0, 10) for num in my_list}\n",
        "print(my_dict)"
      ],
      "execution_count": 61,
      "outputs": [
        {
          "output_type": "stream",
          "text": [
            "{0: 2, 2: 1, 4: 0, 6: 1, 8: 4}\n"
          ],
          "name": "stdout"
        }
      ]
    },
    {
      "cell_type": "code",
      "metadata": {
        "id": "eb9aYryxZtBj",
        "colab_type": "code",
        "colab": {
          "base_uri": "https://localhost:8080/",
          "height": 170
        },
        "outputId": "94c55a53-ea16-4c75-85bc-64892ec92796"
      },
      "source": [
        "import random\n",
        "names = [\"ABD\", \"Virat\", \"Dravid\", \"Smith\"]\n",
        "scores = [random.randint(0, 100) for name in names]\n",
        "print(scores)\n",
        "\n",
        "for name, score in zip(names, scores):\n",
        "    print(f\"{name} got a score of {score}\")\n",
        "\t\n",
        "for p in zip(names, scores):\n",
        "    print(p)"
      ],
      "execution_count": 62,
      "outputs": [
        {
          "output_type": "stream",
          "text": [
            "[12, 29, 64, 80]\n",
            "ABD got a score of 12\n",
            "Virat got a score of 29\n",
            "Dravid got a score of 64\n",
            "Smith got a score of 80\n",
            "('ABD', 12)\n",
            "('Virat', 29)\n",
            "('Dravid', 64)\n",
            "('Smith', 80)\n"
          ],
          "name": "stdout"
        }
      ]
    },
    {
      "cell_type": "code",
      "metadata": {
        "id": "BTTK0I7kaFij",
        "colab_type": "code",
        "colab": {
          "base_uri": "https://localhost:8080/",
          "height": 51
        },
        "outputId": "d17ce354-4dd9-4670-d786-5b727294e357"
      },
      "source": [
        "class Vehicle:\n",
        "\n",
        "    def __init__(self, make, model, fuel=\"gas\"):\n",
        "        self.make = make\n",
        "        self.model = model\n",
        "        self.fuel = fuel\n",
        "\n",
        "daily_driver = Vehicle(\"BMW\", \"X1\",\"Petrol\")\n",
        "# By default, this is how python represents our object:\n",
        "print(daily_driver)\n",
        "\n",
        "# The variables we saved to the instance are available like this:\n",
        "print(f\"I drive a {daily_driver.make} {daily_driver.model}. It runs on {daily_driver.fuel}.\")\n"
      ],
      "execution_count": 69,
      "outputs": [
        {
          "output_type": "stream",
          "text": [
            "<__main__.Vehicle object at 0x7f6403725630>\n",
            "I drive a BMW X1. It runs on Petrol.\n"
          ],
          "name": "stdout"
        }
      ]
    },
    {
      "cell_type": "code",
      "metadata": {
        "id": "g6oBZGESa5B4",
        "colab_type": "code",
        "colab": {
          "base_uri": "https://localhost:8080/",
          "height": 34
        },
        "outputId": "1c0e0781-c31d-44ee-bd96-d8b3c7099c83"
      },
      "source": [
        "#Expected Output: Most vehicles have 4 wheels.\n",
        "#Don't Touch the class\n",
        "class Vehicle:\n",
        "    number_of_wheels = 0\n",
        "    def __init__(self, make, model, fuel=\"gas\"):\n",
        "        self.make = make\n",
        "        self.model = model\n",
        "        self.fuel = fuel\n",
        "\n",
        "daily_driver = Vehicle(\"BMW\", \"Ferrari\")\n",
        "\n",
        "#Set the value here for number_of_wheels\n",
        "Vehicle.number_of_wheels = 4\n",
        " \n",
        "#Class variable\n",
        "print(f\"Most vehicles have {Vehicle.number_of_wheels} wheels.\")\n"
      ],
      "execution_count": 70,
      "outputs": [
        {
          "output_type": "stream",
          "text": [
            "Most vehicles have 4 wheels.\n"
          ],
          "name": "stdout"
        }
      ]
    },
    {
      "cell_type": "code",
      "metadata": {
        "id": "fVEHao20bQIo",
        "colab_type": "code",
        "colab": {}
      },
      "source": [
        "#Expected Output:\n",
        "\n",
        "#Is my daily driver a car? True Is my Car a Vehicle? False Is my truck a Car? False Is a Car a subclass of Vehicle? False\n",
        "\n",
        "\n",
        "class Vehicle:\n",
        "\n",
        "    def __init__(self, make, model, fuel=\"gas\"):\n",
        "        self.make = make\n",
        "        self.model = model\n",
        "        self.fuel = fuel\n",
        "\n",
        "\n",
        "class Car():\n",
        "\n",
        "    number_of_wheels = 4\n",
        "\n",
        "\n",
        "class Truck(Vehicle):\n",
        "\n",
        "    number_of_wheels = 6\n",
        "\n",
        "    def __init__(self, make, model, fuel=\"diesel\"):\n",
        "        super().__init__(make, model, fuel)\n",
        "\n",
        "\n",
        "daily_driver = Car()\n",
        "truck = Truck(\"Ford\", \"F350\")\n",
        "\n",
        "\n",
        "\n",
        "print(f\"Is my daily driver a car? {isinstance(daily_driver, Car)}\")\n",
        "print(f\"Is my Car a Vehicle? {isinstance(daily_driver, Vehicle)}\")\n",
        "print(f\"Is my truck a Car? {isinstance(truck, Car)}\")\n",
        "\n",
        "print(f\"Is a Car a subclass of Vehicle? {issubclass(Car, Vehicle)}\")\n"
      ],
      "execution_count": 0,
      "outputs": []
    }
  ]
}